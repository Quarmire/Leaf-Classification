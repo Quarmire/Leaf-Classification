{
 "cells": [
  {
   "cell_type": "code",
   "execution_count": 3,
   "metadata": {},
   "outputs": [],
   "source": [
    "import requests\n",
    "\n",
    "def download_file(url, filename):\n",
    "    try:\n",
    "        response = requests.get(url, stream=True)\n",
    "        response.raise_for_status() \n",
    "\n",
    "        with open(filename, 'wb') as file:\n",
    "            for chunk in response.iter_content(chunk_size=8192):\n",
    "                file.write(chunk)\n",
    "        print(f\"Downloaded '{filename}' successfully.\")\n",
    "\n",
    "    except requests.exceptions.RequestException as e:\n",
    "        print(f\"Error downloading '{url}': {e}\")\n",
    "    except IOError as e:\n",
    "        print(f\"Error writing file '{filename}': {e}\")"
   ]
  },
  {
   "cell_type": "code",
   "execution_count": 4,
   "metadata": {},
   "outputs": [
    {
     "name": "stdout",
     "output_type": "stream",
     "text": [
      "Downloaded 'label_encoder.pkl' successfully.\n"
     ]
    }
   ],
   "source": [
    "# Download Label Encoder\n",
    "download_file(\"https://cloud.disparateworld.com/s/Zj26s3a2Y6YRSEA\", \"label_encoder.pkl\")"
   ]
  },
  {
   "cell_type": "code",
   "execution_count": 5,
   "metadata": {},
   "outputs": [
    {
     "name": "stdout",
     "output_type": "stream",
     "text": [
      "Downloaded 'leafcnn_model.pt' successfully.\n"
     ]
    }
   ],
   "source": [
    "# Download LeafCNN Model\n",
    "download_file(\"https://cloud.disparateworld.com/s/WkQLr9aN2pfT6qn\", \"leafcnn_model.pt\")"
   ]
  },
  {
   "cell_type": "code",
   "execution_count": 6,
   "metadata": {},
   "outputs": [
    {
     "name": "stdout",
     "output_type": "stream",
     "text": [
      "Downloaded 'leafdcnn_model.pt' successfully.\n"
     ]
    }
   ],
   "source": [
    "# Download LeafDCNN Model\n",
    "download_file(\"https://cloud.disparateworld.com/s/EzoAYYpJEZrtArP\", \"leafdcnn_model.pt\")"
   ]
  },
  {
   "cell_type": "code",
   "execution_count": 7,
   "metadata": {},
   "outputs": [
    {
     "name": "stdout",
     "output_type": "stream",
     "text": [
      "Downloaded 'leafdcnnbn_model.pt' successfully.\n"
     ]
    }
   ],
   "source": [
    "# Download LeafCNN w/ BN Model\n",
    "download_file(\"https://cloud.disparateworld.com/s/WCwFnBxiA9sfxHa\", \"leafdcnnbn_model.pt\")"
   ]
  },
  {
   "cell_type": "code",
   "execution_count": 8,
   "metadata": {},
   "outputs": [
    {
     "name": "stdout",
     "output_type": "stream",
     "text": [
      "Downloaded 'pca_flat.pkl' successfully.\n"
     ]
    }
   ],
   "source": [
    "# Download PCA (Flat)\n",
    "download_file(\"https://cloud.disparateworld.com/s/tNG2oNc34QsEixQ\", \"pca_flat.pkl\")"
   ]
  },
  {
   "cell_type": "code",
   "execution_count": 9,
   "metadata": {},
   "outputs": [
    {
     "name": "stdout",
     "output_type": "stream",
     "text": [
      "Downloaded 'pca_hl.pkl' successfully.\n"
     ]
    }
   ],
   "source": [
    "# Download PCA (HL)\n",
    "download_file(\"https://cloud.disparateworld.com/s/oZcNMSWBcMi4PrH\", \"pca_hl.pkl\")"
   ]
  },
  {
   "cell_type": "code",
   "execution_count": 10,
   "metadata": {},
   "outputs": [
    {
     "name": "stdout",
     "output_type": "stream",
     "text": [
      "Downloaded 'svm_flat.pkl' successfully.\n"
     ]
    }
   ],
   "source": [
    "# Download SVM (Flat)\n",
    "download_file(\"https://cloud.disparateworld.com/s/9RcjMy4nAtrJEs2\", \"svm_flat.pkl\")"
   ]
  },
  {
   "cell_type": "code",
   "execution_count": 11,
   "metadata": {},
   "outputs": [
    {
     "name": "stdout",
     "output_type": "stream",
     "text": [
      "Downloaded 'svm_hl.pkl' successfully.\n"
     ]
    }
   ],
   "source": [
    "# Download SVM (HL)\n",
    "download_file(\"https://cloud.disparateworld.com/s/MkHxFzaBYKjkTjN\", \"svm_hl.pkl\")"
   ]
  }
 ],
 "metadata": {
  "kernelspec": {
   "display_name": ".venv",
   "language": "python",
   "name": "python3"
  },
  "language_info": {
   "codemirror_mode": {
    "name": "ipython",
    "version": 3
   },
   "file_extension": ".py",
   "mimetype": "text/x-python",
   "name": "python",
   "nbconvert_exporter": "python",
   "pygments_lexer": "ipython3",
   "version": "3.12.8"
  }
 },
 "nbformat": 4,
 "nbformat_minor": 2
}
