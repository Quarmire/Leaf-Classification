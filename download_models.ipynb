{
 "cells": [
  {
   "cell_type": "code",
   "execution_count": 1,
   "metadata": {},
   "outputs": [],
   "source": [
    "import requests\n",
    "\n",
    "def download_file(url, filename):\n",
    "    try:\n",
    "        response = requests.get(url, stream=True)\n",
    "        response.raise_for_status() \n",
    "\n",
    "        with open(filename, 'wb') as file:\n",
    "            for chunk in response.iter_content(chunk_size=8192):\n",
    "                file.write(chunk)\n",
    "        print(f\"Downloaded '{filename}' successfully.\")\n",
    "\n",
    "    except requests.exceptions.RequestException as e:\n",
    "        print(f\"Error downloading '{url}': {e}\")\n",
    "    except IOError as e:\n",
    "        print(f\"Error writing file '{filename}': {e}\")"
   ]
  },
  {
   "cell_type": "code",
   "execution_count": 10,
   "metadata": {},
   "outputs": [
    {
     "name": "stdout",
     "output_type": "stream",
     "text": [
      "Downloaded 'label_encoder.pkl' successfully.\n"
     ]
    }
   ],
   "source": [
    "# Download Label Encoder\n",
    "download_file(\"https://cloud.disparateworld.com/s/Zj26s3a2Y6YRSEA/download/label_encoder.pkl\", \"label_encoder.pkl\")"
   ]
  },
  {
   "cell_type": "code",
   "execution_count": 11,
   "metadata": {},
   "outputs": [
    {
     "name": "stdout",
     "output_type": "stream",
     "text": [
      "Downloaded 'leafcnn_model.pt' successfully.\n"
     ]
    }
   ],
   "source": [
    "# Download LeafCNN Model\n",
    "download_file(\"https://cloud.disparateworld.com/s/WkQLr9aN2pfT6qn/download/leafcnn_model.pt\", \"leafcnn_model.pt\")"
   ]
  },
  {
   "cell_type": "code",
   "execution_count": 12,
   "metadata": {},
   "outputs": [
    {
     "name": "stdout",
     "output_type": "stream",
     "text": [
      "Downloaded 'leafdcnn_model.pt' successfully.\n"
     ]
    }
   ],
   "source": [
    "# Download LeafDCNN Model\n",
    "download_file(\"https://cloud.disparateworld.com/s/EzoAYYpJEZrtArP/download/leafdcnn_model.pt\", \"leafdcnn_model.pt\")"
   ]
  },
  {
   "cell_type": "code",
   "execution_count": 13,
   "metadata": {},
   "outputs": [
    {
     "name": "stdout",
     "output_type": "stream",
     "text": [
      "Downloaded 'leafdcnnbn_model.pt' successfully.\n"
     ]
    }
   ],
   "source": [
    "# Download LeafCNN w/ BN Model\n",
    "download_file(\"https://cloud.disparateworld.com/s/WCwFnBxiA9sfxHa/download/leafdcnnbn_model.pt\", \"leafdcnnbn_model.pt\")"
   ]
  },
  {
   "cell_type": "code",
   "execution_count": 14,
   "metadata": {},
   "outputs": [
    {
     "name": "stdout",
     "output_type": "stream",
     "text": [
      "Downloaded 'pca_flat.pkl' successfully.\n"
     ]
    }
   ],
   "source": [
    "# Download PCA (Flat)\n",
    "download_file(\"https://cloud.disparateworld.com/s/tNG2oNc34QsEixQ/download/pca_flat.pkl\", \"pca_flat.pkl\")"
   ]
  },
  {
   "cell_type": "code",
   "execution_count": 15,
   "metadata": {},
   "outputs": [
    {
     "name": "stdout",
     "output_type": "stream",
     "text": [
      "Downloaded 'pca_hl.pkl' successfully.\n"
     ]
    }
   ],
   "source": [
    "# Download PCA (HL)\n",
    "download_file(\"https://cloud.disparateworld.com/s/oZcNMSWBcMi4PrH/download/pca_hl.pkl\", \"pca_hl.pkl\")"
   ]
  },
  {
   "cell_type": "code",
   "execution_count": 16,
   "metadata": {},
   "outputs": [
    {
     "name": "stdout",
     "output_type": "stream",
     "text": [
      "Downloaded 'svm_flat.pkl' successfully.\n"
     ]
    }
   ],
   "source": [
    "# Download SVM (Flat)\n",
    "download_file(\"https://cloud.disparateworld.com/s/9RcjMy4nAtrJEs2/download/svm_flat.pkl\", \"svm_flat.pkl\")"
   ]
  },
  {
   "cell_type": "code",
   "execution_count": 17,
   "metadata": {},
   "outputs": [
    {
     "name": "stdout",
     "output_type": "stream",
     "text": [
      "Downloaded 'svm_hl.pkl' successfully.\n"
     ]
    }
   ],
   "source": [
    "# Download SVM (HL)\n",
    "download_file(\"https://cloud.disparateworld.com/s/MkHxFzaBYKjkTjN/download/svm_hl.pkl\", \"svm_hl.pkl\")"
   ]
  }
 ],
 "metadata": {
  "kernelspec": {
   "display_name": ".venv",
   "language": "python",
   "name": "python3"
  },
  "language_info": {
   "codemirror_mode": {
    "name": "ipython",
    "version": 3
   },
   "file_extension": ".py",
   "mimetype": "text/x-python",
   "name": "python",
   "nbconvert_exporter": "python",
   "pygments_lexer": "ipython3",
   "version": "3.13.1"
  }
 },
 "nbformat": 4,
 "nbformat_minor": 2
}
